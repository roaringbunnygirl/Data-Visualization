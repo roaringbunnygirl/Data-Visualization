{
  "cells": [
    {
      "cell_type": "markdown",
      "metadata": {
        "id": "view-in-github",
        "colab_type": "text"
      },
      "source": [
        "<a href=\"https://colab.research.google.com/github/roaringbunnygirl/Data-Visualization/blob/main/cs217_hw1.ipynb\" target=\"_parent\"><img src=\"https://colab.research.google.com/assets/colab-badge.svg\" alt=\"Open In Colab\"/></a>"
      ]
    },
    {
      "cell_type": "markdown",
      "metadata": {
        "id": "CSgmDW8T9RWy"
      },
      "source": [
        "### [double-click to type in] Input your name, your netid here:"
      ]
    },
    {
      "cell_type": "markdown",
      "metadata": {
        "id": "enca4Pjk9RWz"
      },
      "source": [
        "---"
      ]
    },
    {
      "cell_type": "markdown",
      "metadata": {
        "id": "UenMLW--9RWz"
      },
      "source": [
        "Instructions:\n",
        "\n",
        "1. First save this notebook to your drive, then work on it.\n",
        "2. In order to connect to the database, you need to upload the database file to your current working directory.\n",
        "3. DO NOT change the setup coding blocks. You should only put queries in the specified locations.\n",
        "4. After you are done, save and download your notebook as ipynb file, and submit it to canvas. Make sure you keep the output in the notebook."
      ]
    },
    {
      "cell_type": "code",
      "execution_count": null,
      "metadata": {
        "id": "06tMGZ1OX7Gf"
      },
      "outputs": [],
      "source": [
        "#### Execute this coding block only! DO NOT change anything!!\n",
        "\n",
        "import csv, sqlite3\n",
        "import pandas as pd\n",
        "from sqlite3 import Error\n",
        "\n",
        "def create_connection(db_file):\n",
        "  conn = None\n",
        "  try:\n",
        "      conn = sqlite3.connect(db_file)\n",
        "  except Error as e:\n",
        "      print(\"create_connection error:\")\n",
        "      print(e)\n",
        "  return conn\n",
        "\n",
        "def execute_query(conn, query):\n",
        "  return pd.read_sql_query(query,conn)\n",
        "\n",
        "def display_result(r):\n",
        "  display(r.style.hide(axis='index'))\n",
        "\n",
        "conn = create_connection('SalesOrders.db')"
      ]
    },
    {
      "cell_type": "code",
      "execution_count": null,
      "metadata": {
        "id": "ZTWavrEPdxz6"
      },
      "outputs": [],
      "source": [
        "####TODO 1: put your sql query in the following three single quotes\n",
        "query1='''\n",
        "\n",
        "'''\n",
        "r = execute_query(conn,query1)\n",
        "display_result(r)"
      ]
    },
    {
      "cell_type": "code",
      "execution_count": null,
      "metadata": {
        "deletable": false,
        "editable": false,
        "id": "38BI5j6Eo_hL",
        "nbgrader": {
          "cell_type": "code",
          "checksum": "acc16565dc6b6fdf7f1256b58078feef",
          "grade": true,
          "grade_id": "cell-f3a9bdb7f38a18a9",
          "locked": true,
          "points": 10,
          "schema_version": 3,
          "solution": false,
          "task": false
        },
        "tags": []
      },
      "outputs": [],
      "source": [
        "#leave this cell blank"
      ]
    },
    {
      "cell_type": "code",
      "execution_count": null,
      "metadata": {
        "id": "vCWMX7vTemJH"
      },
      "outputs": [],
      "source": [
        "####TODO 2: put your sql query in the following three single quotes\n",
        "query2='''\n",
        "\n",
        "'''\n",
        "r = execute_query(conn,query2)\n",
        "display_result(r)"
      ]
    },
    {
      "cell_type": "code",
      "execution_count": null,
      "metadata": {
        "deletable": false,
        "editable": false,
        "id": "q4fVqhYHpAha",
        "nbgrader": {
          "cell_type": "code",
          "checksum": "d22caa1331fe5622f539abacac418ffc",
          "grade": true,
          "grade_id": "cell-23aa3796b839bb4c",
          "locked": true,
          "points": 10,
          "schema_version": 3,
          "solution": false,
          "task": false
        },
        "tags": []
      },
      "outputs": [],
      "source": [
        "#leave this cell blank"
      ]
    },
    {
      "cell_type": "code",
      "execution_count": null,
      "metadata": {
        "id": "GJ34uu7eemaM"
      },
      "outputs": [],
      "source": [
        "####TODO 3: put your sql query in the following three single quotes\n",
        "query3='''\n",
        "\n",
        "'''\n",
        "r = execute_query(conn,query3)\n",
        "display_result(r)"
      ]
    },
    {
      "cell_type": "code",
      "execution_count": null,
      "metadata": {
        "deletable": false,
        "editable": false,
        "id": "uVX_1iD_pBIz",
        "nbgrader": {
          "cell_type": "code",
          "checksum": "f32a82768a57fa72a6b44ec9435962f2",
          "grade": true,
          "grade_id": "cell-2d2babcac4fd7388",
          "locked": true,
          "points": 10,
          "schema_version": 3,
          "solution": false,
          "task": false
        },
        "tags": []
      },
      "outputs": [],
      "source": [
        "#leave this cell blank"
      ]
    },
    {
      "cell_type": "code",
      "execution_count": null,
      "metadata": {
        "id": "XbAnUMbvemkR"
      },
      "outputs": [],
      "source": [
        "####TODO 4: put your sql query in the following three single quotes\n",
        "query4='''\n",
        "\n",
        "'''\n",
        "r = execute_query(conn,query4)\n",
        "display_result(r)"
      ]
    },
    {
      "cell_type": "code",
      "execution_count": null,
      "metadata": {
        "deletable": false,
        "editable": false,
        "id": "pywgYBsKpB3a",
        "nbgrader": {
          "cell_type": "code",
          "checksum": "c65c7f294e2198738bbed485477f1321",
          "grade": true,
          "grade_id": "cell-60632df8ad4a47e8",
          "locked": true,
          "points": 10,
          "schema_version": 3,
          "solution": false,
          "task": false
        },
        "tags": []
      },
      "outputs": [],
      "source": [
        "#leave this cell blank"
      ]
    },
    {
      "cell_type": "code",
      "execution_count": null,
      "metadata": {
        "id": "YJDG0lmvemrr"
      },
      "outputs": [],
      "source": [
        "####TODO 5: put your sql query in the following three single quotes\n",
        "query5='''\n",
        "\n",
        "'''\n",
        "r = execute_query(conn,query5)\n",
        "display_result(r)"
      ]
    },
    {
      "cell_type": "code",
      "execution_count": null,
      "metadata": {
        "deletable": false,
        "editable": false,
        "id": "1LYx9NRTpCgy",
        "nbgrader": {
          "cell_type": "code",
          "checksum": "a9f981948946d6bbf8b9310fd5aee64c",
          "grade": true,
          "grade_id": "cell-3469711170e57071",
          "locked": true,
          "points": 10,
          "schema_version": 3,
          "solution": false,
          "task": false
        },
        "tags": []
      },
      "outputs": [],
      "source": [
        "#leave this cell blank"
      ]
    },
    {
      "cell_type": "code",
      "execution_count": null,
      "metadata": {
        "id": "nF1TGFmZemy0",
        "tags": []
      },
      "outputs": [],
      "source": [
        "####TODO 6: put your sql query in the following three single quotes\n",
        "query6='''\n",
        "\n",
        "'''\n",
        "r = execute_query(conn,query6)\n",
        "display_result(r)"
      ]
    },
    {
      "cell_type": "code",
      "execution_count": null,
      "metadata": {
        "deletable": false,
        "editable": false,
        "id": "cBbYOwSEpDhw",
        "nbgrader": {
          "cell_type": "code",
          "checksum": "c20117cfc280b670c8da540bf9a77f1f",
          "grade": true,
          "grade_id": "cell-b3d40c41d9ed4d39",
          "locked": true,
          "points": 10,
          "schema_version": 3,
          "solution": false,
          "task": false
        },
        "tags": []
      },
      "outputs": [],
      "source": [
        "#leave this cell blank"
      ]
    },
    {
      "cell_type": "code",
      "execution_count": null,
      "metadata": {
        "id": "Y9FwN8_Dem50"
      },
      "outputs": [],
      "source": [
        "####TODO 7: put your sql query in the following three single quotes\n",
        "query7='''\n",
        "\n",
        "'''\n",
        "r = execute_query(conn,query7)\n",
        "display_result(r)"
      ]
    },
    {
      "cell_type": "code",
      "execution_count": null,
      "metadata": {
        "deletable": false,
        "editable": false,
        "id": "RKj4SgijpES6",
        "nbgrader": {
          "cell_type": "code",
          "checksum": "d89086d414b944e54c4bd0926fe651ff",
          "grade": true,
          "grade_id": "cell-6f2adb64066d2b22",
          "locked": true,
          "points": 10,
          "schema_version": 3,
          "solution": false,
          "task": false
        },
        "tags": []
      },
      "outputs": [],
      "source": [
        "#leave this cell blank"
      ]
    },
    {
      "cell_type": "code",
      "execution_count": null,
      "metadata": {
        "id": "zWz4IDJEenAQ"
      },
      "outputs": [],
      "source": [
        "####TODO 8: put your sql query in the following three single quotes\n",
        "query8='''\n",
        "\n",
        "'''\n",
        "r = execute_query(conn,query8)\n",
        "display_result(r)"
      ]
    },
    {
      "cell_type": "code",
      "execution_count": null,
      "metadata": {
        "deletable": false,
        "editable": false,
        "id": "sYgZ3k64pFkc",
        "nbgrader": {
          "cell_type": "code",
          "checksum": "5aefe035c79af69d88c3fde65c49988a",
          "grade": true,
          "grade_id": "cell-e12540540a67c171",
          "locked": true,
          "points": 10,
          "schema_version": 3,
          "solution": false,
          "task": false
        },
        "tags": []
      },
      "outputs": [],
      "source": [
        "#leave this cell blank"
      ]
    },
    {
      "cell_type": "code",
      "execution_count": null,
      "metadata": {
        "id": "SQbdwvtvenHN"
      },
      "outputs": [],
      "source": [
        "####TODO 9: put your sql query in the following three single quotes\n",
        "query9='''\n",
        "\n",
        "'''\n",
        "r = execute_query(conn,query9)\n",
        "display_result(r)"
      ]
    },
    {
      "cell_type": "code",
      "execution_count": null,
      "metadata": {
        "deletable": false,
        "editable": false,
        "id": "7lMmyxjQpGQC",
        "nbgrader": {
          "cell_type": "code",
          "checksum": "ad99953ef0603c855ff793d7f8c03a49",
          "grade": true,
          "grade_id": "cell-756c943b41eff76d",
          "locked": true,
          "points": 10,
          "schema_version": 3,
          "solution": false,
          "task": false
        },
        "tags": []
      },
      "outputs": [],
      "source": [
        "#leave this cell blank"
      ]
    },
    {
      "cell_type": "code",
      "execution_count": null,
      "metadata": {
        "id": "pZZAORzKenNf"
      },
      "outputs": [],
      "source": [
        "####TODO 10: put your sql query in the following three single quotes\n",
        "query10='''\n",
        "\n",
        "'''\n",
        "r = execute_query(conn,query10)\n",
        "display_result(r)"
      ]
    },
    {
      "cell_type": "code",
      "execution_count": null,
      "metadata": {
        "deletable": false,
        "editable": false,
        "id": "GN11ooMwpIDs",
        "nbgrader": {
          "cell_type": "code",
          "checksum": "90ed400460c9bfa16b8c4ddb7787d52d",
          "grade": true,
          "grade_id": "cell-a76b91a1fc78476b",
          "locked": true,
          "points": 10,
          "schema_version": 3,
          "solution": false,
          "task": false
        },
        "tags": []
      },
      "outputs": [],
      "source": [
        "#leave this cell blank"
      ]
    },
    {
      "cell_type": "code",
      "execution_count": null,
      "metadata": {
        "id": "Im_j_R4ee9ma"
      },
      "outputs": [],
      "source": [
        "#### Execute this block after you are done!!\n",
        "conn.close()"
      ]
    }
  ],
  "metadata": {
    "colab": {
      "provenance": [],
      "include_colab_link": true
    },
    "kernelspec": {
      "display_name": "Python 3 (ipykernel)",
      "language": "python",
      "name": "python3"
    },
    "language_info": {
      "codemirror_mode": {
        "name": "ipython",
        "version": 3
      },
      "file_extension": ".py",
      "mimetype": "text/x-python",
      "name": "python",
      "nbconvert_exporter": "python",
      "pygments_lexer": "ipython3",
      "version": "3.10.4"
    }
  },
  "nbformat": 4,
  "nbformat_minor": 0
}